{
  "nbformat": 4,
  "nbformat_minor": 0,
  "metadata": {
    "colab": {
      "provenance": [],
      "toc_visible": true,
      "include_colab_link": true
    },
    "kernelspec": {
      "name": "python3",
      "display_name": "Python 3"
    },
    "language_info": {
      "name": "python"
    }
  },
  "cells": [
    {
      "cell_type": "markdown",
      "metadata": {
        "id": "view-in-github",
        "colab_type": "text"
      },
      "source": [
        "<a href=\"https://colab.research.google.com/github/DaviGerezSilva/Avalia-o-Primeiro-Bimestre-Desenvolvimento-WEB-Davi-Gerez-Silva/blob/main/ads_ed2_2025_busca_Lista1.ipynb\" target=\"_parent\"><img src=\"https://colab.research.google.com/assets/colab-badge.svg\" alt=\"Open In Colab\"/></a>"
      ]
    },
    {
      "cell_type": "markdown",
      "source": [
        "# Exercício 1 - Busca Sequencial\n",
        "\n",
        "Para uma lista de 100 inteiros gerados de forma aleatória (com valores entre 1 e 200), busque a posição de um elemento definido pelo usuário utilizando o algoritmo de busca sequencial. Caso o valor não seja encontrado na lista, exiba a mensagem \"Valor não encontrado!\""
      ],
      "metadata": {
        "id": "9AqAY99lUWKH"
      }
    },
    {
      "cell_type": "code",
      "source": [
        "import random\n",
        "\n",
        "def gerar_lista(tamanho=100, limite=200):\n",
        "    return [random.randint(1, limite) for _ in range(tamanho)]\n",
        "\n",
        "def busca_sequencial(lista, valor):\n",
        "    for i in range(len(lista)):\n",
        "        if lista[i] == valor:\n",
        "            return i  # Retorna a posição do valor encontrado\n",
        "    return -1  # Retorna -1 caso o valor não seja encontrado\n",
        "\n",
        "# Gera a lista aleatória\n",
        "lista_numeros = gerar_lista()\n",
        "\n",
        "# Exibe a lista gerada\n",
        "print(\"Lista gerada:\", lista_numeros)\n",
        "\n",
        "# Solicita o número do usuário\n",
        "valor_busca = int(input(\"Digite um número para buscar na lista: \"))\n",
        "\n",
        "# Busca o valor na lista\n",
        "posicao = busca_sequencial(lista_numeros, valor_busca)\n",
        "\n",
        "# Exibe o resultado\n",
        "if posicao != -1:\n",
        "    print(f\"Valor encontrado na posição {posicao}.\")\n",
        "else:\n",
        "    print(\"Valor não encontrado!\")\n"
      ],
      "metadata": {
        "id": "4KrxXhQ7Uo1r",
        "outputId": "5ebed34d-bb4a-4509-d991-13a96c179293",
        "colab": {
          "base_uri": "https://localhost:8080/"
        }
      },
      "execution_count": 6,
      "outputs": [
        {
          "output_type": "stream",
          "name": "stdout",
          "text": [
            "Lista gerada: [6, 39, 16, 50, 148, 74, 165, 101, 89, 126, 144, 44, 196, 109, 101, 21, 132, 141, 36, 13, 9, 140, 135, 74, 33, 152, 54, 145, 63, 173, 167, 61, 91, 50, 141, 144, 77, 106, 115, 148, 45, 173, 96, 69, 54, 46, 110, 24, 49, 163, 13, 145, 139, 172, 32, 113, 75, 176, 43, 153, 117, 8, 75, 185, 151, 103, 103, 110, 191, 105, 188, 96, 13, 134, 181, 106, 53, 158, 116, 74, 145, 179, 9, 131, 61, 184, 51, 180, 41, 53, 164, 87, 178, 16, 102, 178, 188, 69, 80, 18]\n",
            "Digite um número para buscar na lista: 112\n",
            "Valor não encontrado!\n"
          ]
        }
      ]
    },
    {
      "cell_type": "markdown",
      "source": [
        "# Exercício 2 - Busca Binária\n",
        "\n",
        "Para uma lista de 100 inteiros gerados de forma aleatória (com valores entre 1 e 200), busque a posição de um elemento definido pelo usuário utilizando o algoritmo de busca binária. Caso o valor não seja encontrado na lista, exiba a mensagem \"Valor não encontrado!\""
      ],
      "metadata": {
        "id": "utJXIKxT3ZYV"
      }
    },
    {
      "cell_type": "code",
      "source": [
        "import random\n",
        "\n",
        "def gerar_lista(tamanho=100, limite=200):\n",
        "    lista = [random.randint(1, limite) for _ in range(tamanho)]\n",
        "    return sorted(lista)  # Ordena a lista para busca binária\n",
        "\n",
        "def busca_binaria(lista, valor):\n",
        "    inicio, fim = 0, len(lista) - 1\n",
        "    while inicio <= fim:\n",
        "        meio = (inicio + fim) // 2\n",
        "        if lista[meio] == valor:\n",
        "            return meio  # Retorna a posição do valor encontrado\n",
        "        elif lista[meio] < valor:\n",
        "            inicio = meio + 1\n",
        "        else:\n",
        "            fim = meio - 1\n",
        "    return -1  # Retorna -1 caso o valor não seja encontrado\n",
        "\n",
        "# Gera a lista aleatória e ordenada\n",
        "lista_numeros = gerar_lista()\n",
        "\n",
        "# Exibe a lista gerada\n",
        "print(\"Lista gerada:\", lista_numeros)\n",
        "\n",
        "# Solicita o número do usuário\n",
        "valor_busca = int(input(\"Digite um número para buscar na lista: \"))\n",
        "\n",
        "# Busca o valor na lista\n",
        "posicao = busca_binaria(lista_numeros, valor_busca)\n",
        "\n",
        "# Exibe o resultado\n",
        "if posicao != -1:\n",
        "    print(f\"Valor encontrado na posição {posicao}.\")\n",
        "else:\n",
        "    print(\"Valor não encontrado!\")\n"
      ],
      "metadata": {
        "id": "knzEJmBGWN3W",
        "outputId": "95e4f963-76dc-465b-b914-967f3c6862c3",
        "colab": {
          "base_uri": "https://localhost:8080/"
        }
      },
      "execution_count": 7,
      "outputs": [
        {
          "output_type": "stream",
          "name": "stdout",
          "text": [
            "Lista gerada: [2, 3, 5, 6, 8, 8, 9, 18, 19, 20, 22, 23, 26, 26, 27, 29, 30, 32, 32, 38, 39, 40, 42, 45, 45, 46, 47, 48, 52, 60, 62, 64, 64, 65, 66, 66, 67, 67, 68, 69, 73, 74, 74, 76, 76, 77, 78, 81, 84, 87, 88, 91, 91, 93, 96, 97, 97, 102, 108, 108, 110, 117, 120, 122, 123, 126, 129, 131, 133, 137, 138, 140, 140, 142, 143, 146, 148, 157, 158, 161, 162, 165, 166, 171, 173, 176, 178, 182, 183, 184, 185, 186, 186, 188, 188, 193, 193, 195, 195, 199]\n",
            "Digite um número para buscar na lista: 147\n",
            "Valor não encontrado!\n"
          ]
        }
      ]
    },
    {
      "cell_type": "markdown",
      "source": [
        "# Exercício 3 - Busca de Alvo\n",
        "\n",
        "Para uma lista de 100 inteiros aleatórios entre 1 e 200, encontre a posição de **TODOS** os pares de elementos cuja soma dos valores seja igual a um valor determinado pelo usuário. Caso nenhum alvo seja encontrado na lista, exiba a mensagem \"Alvo não encontrado!\""
      ],
      "metadata": {
        "id": "CDpxepmeUs9Z"
      }
    },
    {
      "cell_type": "code",
      "source": [
        "import random\n",
        "\n",
        "def gerar_lista(tamanho=100, limite=200):\n",
        "    return [random.randint(1, limite) for _ in range(tamanho)]\n",
        "\n",
        "def encontrar_pares_soma(lista, alvo):\n",
        "    pares = []\n",
        "    for i in range(len(lista)):\n",
        "        for j in range(i + 1, len(lista)):\n",
        "            if lista[i] + lista[j] == alvo:\n",
        "                pares.append((i, j))\n",
        "    return pares\n",
        "\n",
        "# Gera a lista aleatória\n",
        "lista_numeros = gerar_lista()\n",
        "\n",
        "# Exibe a lista gerada\n",
        "print(\"Lista gerada:\", lista_numeros)\n",
        "\n",
        "# Solicita o número do usuário\n",
        "valor_alvo = int(input(\"Digite um número alvo para buscar pares cuja soma seja igual a ele: \"))\n",
        "\n",
        "# Encontra pares na lista\n",
        "pares_encontrados = encontrar_pares_soma(lista_numeros, valor_alvo)\n",
        "\n",
        "# Exibe o resultado\n",
        "if pares_encontrados:\n",
        "    for par in pares_encontrados:\n",
        "        print(f\"Par encontrado nas posições {par[0]} e {par[1]}: ({lista_numeros[par[0]]}, {lista_numeros[par[1]]})\")\n",
        "else:\n",
        "    print(\"Alvo não encontrado!\")\n"
      ],
      "metadata": {
        "id": "nsSGlqQOVO1t",
        "outputId": "7354e42e-c094-4130-9d37-c1df7bf82e84",
        "colab": {
          "base_uri": "https://localhost:8080/"
        }
      },
      "execution_count": 8,
      "outputs": [
        {
          "output_type": "stream",
          "name": "stdout",
          "text": [
            "Lista gerada: [149, 79, 48, 150, 115, 71, 64, 54, 34, 165, 149, 188, 186, 170, 15, 121, 155, 108, 88, 17, 145, 72, 132, 106, 19, 71, 42, 15, 140, 162, 41, 110, 15, 40, 48, 83, 198, 191, 157, 112, 172, 19, 115, 162, 78, 164, 140, 95, 46, 97, 108, 69, 101, 60, 147, 132, 99, 21, 107, 57, 51, 43, 71, 194, 127, 197, 126, 134, 29, 103, 1, 53, 168, 184, 45, 85, 174, 16, 69, 36, 10, 162, 118, 1, 192, 76, 68, 123, 116, 33, 72, 90, 5, 54, 124, 26, 47, 38, 165, 42]\n",
            "Digite um número alvo para buscar pares cuja soma seja igual a ele: 14\n",
            "Alvo não encontrado!\n"
          ]
        }
      ]
    },
    {
      "cell_type": "markdown",
      "source": [
        "# Referências\n",
        "\n",
        "- Utilize o módulo random para gerar inteiros aleatório em python https://docs.python.org/pt-br/3.7/library/random.html\n",
        "\n",
        "- Outra posssibilidade para gerar números aleatórios é utilizar a biblioteca NumPy https://numpy.org/doc/2.1/reference/random/index.html\n"
      ],
      "metadata": {
        "id": "pLtxbHrKVtqa"
      }
    }
  ]
}